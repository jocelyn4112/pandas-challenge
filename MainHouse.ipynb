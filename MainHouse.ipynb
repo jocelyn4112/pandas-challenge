{
 "cells": [
  {
   "cell_type": "code",
   "execution_count": 138,
   "metadata": {},
   "outputs": [],
   "source": [
    "# Import Dependencies\n",
    "import pandas as pd\n",
    "import csv\n",
    "import os\n"
   ]
  },
  {
   "cell_type": "code",
   "execution_count": 139,
   "metadata": {},
   "outputs": [
    {
     "data": {
      "text/html": [
       "<div>\n",
       "<style scoped>\n",
       "    .dataframe tbody tr th:only-of-type {\n",
       "        vertical-align: middle;\n",
       "    }\n",
       "\n",
       "    .dataframe tbody tr th {\n",
       "        vertical-align: top;\n",
       "    }\n",
       "\n",
       "    .dataframe thead th {\n",
       "        text-align: right;\n",
       "    }\n",
       "</style>\n",
       "<table border=\"1\" class=\"dataframe\">\n",
       "  <thead>\n",
       "    <tr style=\"text-align: right;\">\n",
       "      <th></th>\n",
       "      <th>Purchase ID</th>\n",
       "      <th>SN</th>\n",
       "      <th>Age</th>\n",
       "      <th>Gender</th>\n",
       "      <th>Item ID</th>\n",
       "      <th>Item Name</th>\n",
       "      <th>Price</th>\n",
       "    </tr>\n",
       "  </thead>\n",
       "  <tbody>\n",
       "    <tr>\n",
       "      <th>0</th>\n",
       "      <td>0</td>\n",
       "      <td>Lisim78</td>\n",
       "      <td>20</td>\n",
       "      <td>Male</td>\n",
       "      <td>108</td>\n",
       "      <td>Extraction, Quickblade Of Trembling Hands</td>\n",
       "      <td>3.53</td>\n",
       "    </tr>\n",
       "    <tr>\n",
       "      <th>1</th>\n",
       "      <td>1</td>\n",
       "      <td>Lisovynya38</td>\n",
       "      <td>40</td>\n",
       "      <td>Male</td>\n",
       "      <td>143</td>\n",
       "      <td>Frenzied Scimitar</td>\n",
       "      <td>1.56</td>\n",
       "    </tr>\n",
       "    <tr>\n",
       "      <th>2</th>\n",
       "      <td>2</td>\n",
       "      <td>Ithergue48</td>\n",
       "      <td>24</td>\n",
       "      <td>Male</td>\n",
       "      <td>92</td>\n",
       "      <td>Final Critic</td>\n",
       "      <td>4.88</td>\n",
       "    </tr>\n",
       "    <tr>\n",
       "      <th>3</th>\n",
       "      <td>3</td>\n",
       "      <td>Chamassasya86</td>\n",
       "      <td>24</td>\n",
       "      <td>Male</td>\n",
       "      <td>100</td>\n",
       "      <td>Blindscythe</td>\n",
       "      <td>3.27</td>\n",
       "    </tr>\n",
       "    <tr>\n",
       "      <th>4</th>\n",
       "      <td>4</td>\n",
       "      <td>Iskosia90</td>\n",
       "      <td>23</td>\n",
       "      <td>Male</td>\n",
       "      <td>131</td>\n",
       "      <td>Fury</td>\n",
       "      <td>1.44</td>\n",
       "    </tr>\n",
       "  </tbody>\n",
       "</table>\n",
       "</div>"
      ],
      "text/plain": [
       "   Purchase ID             SN  Age Gender  Item ID  \\\n",
       "0            0        Lisim78   20   Male      108   \n",
       "1            1    Lisovynya38   40   Male      143   \n",
       "2            2     Ithergue48   24   Male       92   \n",
       "3            3  Chamassasya86   24   Male      100   \n",
       "4            4      Iskosia90   23   Male      131   \n",
       "\n",
       "                                   Item Name  Price  \n",
       "0  Extraction, Quickblade Of Trembling Hands   3.53  \n",
       "1                          Frenzied Scimitar   1.56  \n",
       "2                               Final Critic   4.88  \n",
       "3                                Blindscythe   3.27  \n",
       "4                                       Fury   1.44  "
      ]
     },
     "execution_count": 139,
     "metadata": {},
     "output_type": "execute_result"
    }
   ],
   "source": [
    "# File to Load\n",
    "purchase_data_path = \"Resources/purchase_data.csv\"\n",
    "\n",
    "# Read modified Purchase Data csv and store into Pandas DataFrame\n",
    "purchase_df = pd.read_csv(purchase_data_path)\n",
    "purchase_df.head()"
   ]
  },
  {
   "cell_type": "code",
   "execution_count": 140,
   "metadata": {},
   "outputs": [
    {
     "data": {
      "text/html": [
       "<div>\n",
       "<style scoped>\n",
       "    .dataframe tbody tr th:only-of-type {\n",
       "        vertical-align: middle;\n",
       "    }\n",
       "\n",
       "    .dataframe tbody tr th {\n",
       "        vertical-align: top;\n",
       "    }\n",
       "\n",
       "    .dataframe thead th {\n",
       "        text-align: right;\n",
       "    }\n",
       "</style>\n",
       "<table border=\"1\" class=\"dataframe\">\n",
       "  <thead>\n",
       "    <tr style=\"text-align: right;\">\n",
       "      <th></th>\n",
       "      <th>Player Count</th>\n",
       "    </tr>\n",
       "  </thead>\n",
       "  <tbody>\n",
       "    <tr>\n",
       "      <th>0</th>\n",
       "      <td>576</td>\n",
       "    </tr>\n",
       "  </tbody>\n",
       "</table>\n",
       "</div>"
      ],
      "text/plain": [
       "   Player Count\n",
       "0           576"
      ]
     },
     "execution_count": 140,
     "metadata": {},
     "output_type": "execute_result"
    }
   ],
   "source": [
    "#Total players\n",
    "num_players = len(purchase_df[\"SN\"].unique())\n",
    "num_players_df = pd.DataFrame({\"Player Count\": [num_players]})\n",
    "num_players_df"
   ]
  },
  {
   "cell_type": "code",
   "execution_count": 141,
   "metadata": {},
   "outputs": [
    {
     "data": {
      "text/html": [
       "<div>\n",
       "<style scoped>\n",
       "    .dataframe tbody tr th:only-of-type {\n",
       "        vertical-align: middle;\n",
       "    }\n",
       "\n",
       "    .dataframe tbody tr th {\n",
       "        vertical-align: top;\n",
       "    }\n",
       "\n",
       "    .dataframe thead th {\n",
       "        text-align: right;\n",
       "    }\n",
       "</style>\n",
       "<table border=\"1\" class=\"dataframe\">\n",
       "  <thead>\n",
       "    <tr style=\"text-align: right;\">\n",
       "      <th></th>\n",
       "      <th>Number of Unique Items</th>\n",
       "      <th>Average Purchase Price</th>\n",
       "      <th>Total Number of Purchases</th>\n",
       "      <th>Total Revenue</th>\n",
       "    </tr>\n",
       "  </thead>\n",
       "  <tbody>\n",
       "    <tr>\n",
       "      <th>0</th>\n",
       "      <td>179</td>\n",
       "      <td>3.050987</td>\n",
       "      <td>780</td>\n",
       "      <td>2379.77</td>\n",
       "    </tr>\n",
       "  </tbody>\n",
       "</table>\n",
       "</div>"
      ],
      "text/plain": [
       "   Number of Unique Items  Average Purchase Price  Total Number of Purchases  \\\n",
       "0                     179                3.050987                        780   \n",
       "\n",
       "   Total Revenue  \n",
       "0        2379.77  "
      ]
     },
     "execution_count": 141,
     "metadata": {},
     "output_type": "execute_result"
    }
   ],
   "source": [
    "#Count the total number of players NEED TO: Format numbers, get rid of zero\n",
    "#purchase_df[\"SN\"].unique()\n",
    "\n",
    "#Un Items\n",
    "unique_items = len(purchase_df[\"Item Name\"].unique())\n",
    "#Avg Price\n",
    "Avg_Price = purchase_df['Price'].mean()\n",
    "#Total Numberof purchases\n",
    "Num_Purchases = len(purchase_df['Purchase ID'])\n",
    "#Total Revenue\n",
    "Total_Revenue = sum(purchase_df['Price'])\n",
    "\n",
    "purchasing_analysis_df = pd.DataFrame({\"Number of Unique Items\":[unique_items],\n",
    "                            \"Average Purchase Price\":[Avg_Price],\n",
    "                            \"Total Number of Purchases\":[Num_Purchases],\n",
    "                            \"Total Revenue\": [Total_Revenue]\n",
    "                            })\n",
    "purchasing_analysis_df\n"
   ]
  },
  {
   "cell_type": "code",
   "execution_count": 142,
   "metadata": {},
   "outputs": [
    {
     "data": {
      "text/html": [
       "<div>\n",
       "<style scoped>\n",
       "    .dataframe tbody tr th:only-of-type {\n",
       "        vertical-align: middle;\n",
       "    }\n",
       "\n",
       "    .dataframe tbody tr th {\n",
       "        vertical-align: top;\n",
       "    }\n",
       "\n",
       "    .dataframe thead th {\n",
       "        text-align: right;\n",
       "    }\n",
       "</style>\n",
       "<table border=\"1\" class=\"dataframe\">\n",
       "  <thead>\n",
       "    <tr style=\"text-align: right;\">\n",
       "      <th></th>\n",
       "      <th>Purchase ID</th>\n",
       "      <th>SN</th>\n",
       "      <th>Age</th>\n",
       "      <th>Item ID</th>\n",
       "    </tr>\n",
       "    <tr>\n",
       "      <th>Gender</th>\n",
       "      <th></th>\n",
       "      <th></th>\n",
       "      <th></th>\n",
       "      <th></th>\n",
       "    </tr>\n",
       "  </thead>\n",
       "  <tbody>\n",
       "    <tr>\n",
       "      <th>Female</th>\n",
       "      <td>113</td>\n",
       "      <td>113</td>\n",
       "      <td>113</td>\n",
       "      <td>113</td>\n",
       "    </tr>\n",
       "    <tr>\n",
       "      <th>Male</th>\n",
       "      <td>652</td>\n",
       "      <td>652</td>\n",
       "      <td>652</td>\n",
       "      <td>652</td>\n",
       "    </tr>\n",
       "    <tr>\n",
       "      <th>Other / Non-Disclosed</th>\n",
       "      <td>15</td>\n",
       "      <td>15</td>\n",
       "      <td>15</td>\n",
       "      <td>15</td>\n",
       "    </tr>\n",
       "  </tbody>\n",
       "</table>\n",
       "</div>"
      ],
      "text/plain": [
       "                       Purchase ID   SN  Age  Item ID\n",
       "Gender                                               \n",
       "Female                         113  113  113      113\n",
       "Male                           652  652  652      652\n",
       "Other / Non-Disclosed           15   15   15       15"
      ]
     },
     "execution_count": 142,
     "metadata": {},
     "output_type": "execute_result"
    }
   ],
   "source": [
    "# Count of Female,Male and Nonbinary Players\n",
    "\n",
    "Gender_players_df = purchase_df.groupby([\"Gender\"]) # How to add sum to the same line?\n",
    "Gender_players_df.count().drop(columns=['Item Name', 'Price'])\n"
   ]
  },
  {
   "cell_type": "code",
   "execution_count": 145,
   "metadata": {},
   "outputs": [
    {
     "ename": "NameError",
     "evalue": "name 'ender_players_df' is not defined",
     "output_type": "error",
     "traceback": [
      "\u001b[1;31m---------------------------------------------------------------------------\u001b[0m",
      "\u001b[1;31mNameError\u001b[0m                                 Traceback (most recent call last)",
      "\u001b[1;32m<ipython-input-145-b1d89ab6ab92>\u001b[0m in \u001b[0;36m<module>\u001b[1;34m\u001b[0m\n\u001b[0;32m      4\u001b[0m \u001b[0mgender_stats\u001b[0m \u001b[1;33m=\u001b[0m \u001b[0mGender_players_df\u001b[0m\u001b[1;33m.\u001b[0m\u001b[0mcount\u001b[0m\u001b[1;33m(\u001b[0m\u001b[1;33m)\u001b[0m\u001b[1;33m\u001b[0m\u001b[1;33m\u001b[0m\u001b[0m\n\u001b[0;32m      5\u001b[0m \u001b[1;31m#Screen names by gender\u001b[0m\u001b[1;33m\u001b[0m\u001b[1;33m\u001b[0m\u001b[1;33m\u001b[0m\u001b[0m\n\u001b[1;32m----> 6\u001b[1;33m \u001b[0mtotal_gender\u001b[0m \u001b[1;33m=\u001b[0m \u001b[0mender_players_df\u001b[0m\u001b[1;33m.\u001b[0m\u001b[0mvalue_count\u001b[0m\u001b[1;33m[\u001b[0m\u001b[1;34m'SN'\u001b[0m\u001b[1;33m]\u001b[0m\u001b[1;33m\u001b[0m\u001b[1;33m\u001b[0m\u001b[0m\n\u001b[0m\u001b[0;32m      7\u001b[0m \u001b[1;31m#Total couns by gender/ total players?\u001b[0m\u001b[1;33m\u001b[0m\u001b[1;33m\u001b[0m\u001b[1;33m\u001b[0m\u001b[0m\n\u001b[0;32m      8\u001b[0m \u001b[0mpercent_of_players\u001b[0m \u001b[1;33m=\u001b[0m \u001b[0mtotal_gender\u001b[0m \u001b[1;33m/\u001b[0m \u001b[0mnum_players\u001b[0m \u001b[1;33m*\u001b[0m \u001b[1;36m100\u001b[0m\u001b[1;33m\u001b[0m\u001b[1;33m\u001b[0m\u001b[0m\n",
      "\u001b[1;31mNameError\u001b[0m: name 'ender_players_df' is not defined"
     ]
    }
   ],
   "source": [
    "#Gender_players_df = purchase_df.groupby([\"Gender\"])\n",
    "#Gender = purchase_df.drop_duplicates(subset='SN', keep=\"first\")\n",
    "# By Gender GroupBy - ##How to break out?\n",
    "gender_stats = Gender_players_df.([\"Female\"]).count()\n",
    "#Screen names by gender\n",
    "total_gender = ender_players_df.value_count['SN']\n",
    "#Total couns by gender/ total players?\n",
    "percent_of_players = total_gender / num_players * 100\n",
    "\n",
    "#Create Summery\n",
    "\n",
    "Gender_Demo_df = pd.DataFrame({\"Percentage of Players\": [percent_of_players],\n",
    "                          \"Total Count\": [total_gender]\n",
    "                           })\n",
    "Gender_Demo_df"
   ]
  },
  {
   "cell_type": "code",
   "execution_count": null,
   "metadata": {},
   "outputs": [],
   "source": [
    "#\"Purchasing ANalysis by Gender Break out\" Purchase count, avg purchase price, total purchase value, avg purchasre total/person by gender - Build a dataframe from the groupby? \n",
    "#Purchase COunt\n",
    "pur_count = Gender_players_df.sum()(\"Purchase ID\")\n",
    "# Average Price\n",
    "avg_price = Gender_players_df.mean()(\"Price\")\n",
    "#Total Purchase Value\n",
    "pur_val = Gender_players_df.sum()(\"Price\")\n",
    "# Average Purchase Total Per Person by Gender\"\n",
    "gender_avg = Gender_players_df.mean()(\"Gender\") \n",
    "\n",
    "Gender_breakout_df = pd.DataFrame([{\"Purchase Count\":[pur_count] ,\n",
    "                                  \"Average Purchase Price\": [avg_price] ,\n",
    "                                   \"Total Purchase Value\" : [pur_val],\n",
    "                                    \"Average Purchase Total Per Person by Gender\":[gender_avg] \n",
    "                        }])\n",
    "Gender_players_df\n",
    "#Gender_player.df.loc[:,[]]"
   ]
  },
  {
   "cell_type": "code",
   "execution_count": null,
   "metadata": {},
   "outputs": [],
   "source": [
    "#Use grouped data and filer from there Gender > Age\n",
    "Gender_players_df[\"Age\"].value_counts()"
   ]
  },
  {
   "cell_type": "code",
   "execution_count": null,
   "metadata": {
    "scrolled": true
   },
   "outputs": [],
   "source": [
    "#Gender_players_df.groups"
   ]
  },
  {
   "cell_type": "code",
   "execution_count": null,
   "metadata": {},
   "outputs": [],
   "source": [
    "#Gender_players_df.get_group('Female') # How to sum from here?"
   ]
  },
  {
   "cell_type": "code",
   "execution_count": null,
   "metadata": {},
   "outputs": [],
   "source": [
    "#Gender_players_df.get_group('Male').sum()"
   ]
  },
  {
   "cell_type": "code",
   "execution_count": null,
   "metadata": {},
   "outputs": [],
   "source": [
    "#Pulled out female playser and price \n",
    "#Gender_players_df.get_group('Female'),[\"Price\"]"
   ]
  },
  {
   "cell_type": "code",
   "execution_count": null,
   "metadata": {},
   "outputs": [],
   "source": [
    "#Gender_players_df.mean()"
   ]
  },
  {
   "cell_type": "code",
   "execution_count": null,
   "metadata": {},
   "outputs": [],
   "source": [
    "#If I pull out the columbns does this answers the questions in that section? Need to pull applicable columns\n",
    "\n",
    "Gender_players_df.count()"
   ]
  },
  {
   "cell_type": "code",
   "execution_count": null,
   "metadata": {},
   "outputs": [],
   "source": [
    "#Average total putrchase price by gender - check \n",
    "filter = purchase_df['Gender'] == \"Female\"\n",
    "purchase_df.loc[filter]['Price'].mean()"
   ]
  },
  {
   "cell_type": "code",
   "execution_count": null,
   "metadata": {},
   "outputs": [],
   "source": [
    "Gender_players_df['Age'].describe()\n"
   ]
  },
  {
   "cell_type": "code",
   "execution_count": null,
   "metadata": {},
   "outputs": [],
   "source": [
    "#Create group by Age \n",
    "Age_df = purchase_df.groupby([\"Age\"])\n",
    "Age_df.head()"
   ]
  },
  {
   "cell_type": "code",
   "execution_count": null,
   "metadata": {},
   "outputs": [],
   "source": [
    "#Age Demo \n",
    "#Break into bins in 4 year increments # How to make over x age? > sign wont work for younger and older - error = ValueError: bins must increase monotonically.\n",
    "\n",
    "bins = [5.9,9.9,14.9,19.9,24.9,29.9,34.9,39.9,44.9,49.9,54.9, 59.9,150]\n",
    "group_names = [\"6-9\",\"10-14\",\"15-19\",\"20-24\",\"25-29\",\"30-34\",\"35-39\",\"40-44\",\"45-49\",\"50-54\",\"55-60\", \"Over 60\"]\n"
   ]
  },
  {
   "cell_type": "code",
   "execution_count": null,
   "metadata": {
    "scrolled": true
   },
   "outputs": [],
   "source": [
    "\n",
    "#Group bins with names\n",
    "#age_groups = pd.cut(Age_df[\"Age\"], bins, labels = group_names)\n",
    "#New_Age_df = pd.cut(Age_df[\"Age\"], bins, labels=group_names).head()\n",
    "#Age_df[\"Age\"] = \n",
    "pd.cut(Age_df[\"Age\"], bins, labels=group_names, include_lowest=True).head()\n"
   ]
  },
  {
   "cell_type": "code",
   "execution_count": 148,
   "metadata": {},
   "outputs": [
    {
     "data": {
      "text/html": [
       "<div>\n",
       "<style scoped>\n",
       "    .dataframe tbody tr th:only-of-type {\n",
       "        vertical-align: middle;\n",
       "    }\n",
       "\n",
       "    .dataframe tbody tr th {\n",
       "        vertical-align: top;\n",
       "    }\n",
       "\n",
       "    .dataframe thead th {\n",
       "        text-align: right;\n",
       "    }\n",
       "</style>\n",
       "<table border=\"1\" class=\"dataframe\">\n",
       "  <thead>\n",
       "    <tr style=\"text-align: right;\">\n",
       "      <th></th>\n",
       "      <th>Purchase ID</th>\n",
       "      <th>Age</th>\n",
       "      <th>Item ID</th>\n",
       "      <th>Price</th>\n",
       "    </tr>\n",
       "    <tr>\n",
       "      <th>SN</th>\n",
       "      <th></th>\n",
       "      <th></th>\n",
       "      <th></th>\n",
       "      <th></th>\n",
       "    </tr>\n",
       "  </thead>\n",
       "  <tbody>\n",
       "    <tr>\n",
       "      <th>Dyally87</th>\n",
       "      <td>554.0</td>\n",
       "      <td>22.0</td>\n",
       "      <td>63.0</td>\n",
       "      <td>4.99</td>\n",
       "    </tr>\n",
       "    <tr>\n",
       "      <th>Lirtilsa71</th>\n",
       "      <td>246.0</td>\n",
       "      <td>24.0</td>\n",
       "      <td>139.0</td>\n",
       "      <td>4.94</td>\n",
       "    </tr>\n",
       "    <tr>\n",
       "      <th>Yarithsurgue62</th>\n",
       "      <td>231.0</td>\n",
       "      <td>26.0</td>\n",
       "      <td>139.0</td>\n",
       "      <td>4.94</td>\n",
       "    </tr>\n",
       "    <tr>\n",
       "      <th>Ririp86</th>\n",
       "      <td>110.0</td>\n",
       "      <td>25.0</td>\n",
       "      <td>139.0</td>\n",
       "      <td>4.94</td>\n",
       "    </tr>\n",
       "    <tr>\n",
       "      <th>Chanirrasta87</th>\n",
       "      <td>493.0</td>\n",
       "      <td>14.0</td>\n",
       "      <td>139.0</td>\n",
       "      <td>4.94</td>\n",
       "    </tr>\n",
       "  </tbody>\n",
       "</table>\n",
       "</div>"
      ],
      "text/plain": [
       "                Purchase ID   Age  Item ID  Price\n",
       "SN                                               \n",
       "Dyally87              554.0  22.0     63.0   4.99\n",
       "Lirtilsa71            246.0  24.0    139.0   4.94\n",
       "Yarithsurgue62        231.0  26.0    139.0   4.94\n",
       "Ririp86               110.0  25.0    139.0   4.94\n",
       "Chanirrasta87         493.0  14.0    139.0   4.94"
      ]
     },
     "execution_count": 148,
     "metadata": {},
     "output_type": "execute_result"
    }
   ],
   "source": [
    "#Break out 5 top spenders \"SN\", \"Purchase Count\" , 'Average Purchase Price', \"Total Purchase Value\" USE LOC?\n",
    "#Top purchasers by SN\n",
    "sn_top = purchase_df.groupby([\"SN\"]).sum().sort_values(\"Price\", ascending=False).head()\n",
    "#average pur price top 5 spenders\n",
    "avg_top5 = purchase_df.groupby([\"SN\"]).mean().sort_values(\"Price\", ascending=False).head()\n",
    "#Purchase Count\n",
    "pur_count = purchase_df.groupby([\"Purchase ID\"]).sum().sort_values(\"Purchase ID\", ascending=False).head()\n",
    "#Total Purchase Value\n",
    "total_pur = purchase_df.groupby([\"Price\"]).sum().sort_values(\"Price\", ascending=False).head()\n",
    "\n",
    "top_spenders_df = pd.DataFrame ({\"Screen Name\":[sn_top], \n",
    "                                 \"Purchase Count\":[pur_count],  \n",
    "                                 \"Average Purchase Price\":[avg_top5],\n",
    "                                 \"Total Purchase Value\":[total_pur]\n",
    "                                 \n",
    "                                })\n",
    "purchase_df.groupby([\"SN\"]).mean().sort_values(\"Price\", ascending=False).head()\n"
   ]
  },
  {
   "cell_type": "code",
   "execution_count": null,
   "metadata": {},
   "outputs": [],
   "source": []
  },
  {
   "cell_type": "code",
   "execution_count": null,
   "metadata": {},
   "outputs": [],
   "source": [
    "#Group By top 5 by Purchase Count Do I need to join the lists base don a key for total purchase count? = Npo, lists by apha order\n",
    "purchase_df.groupby([\"SN\"]).head(5)\n"
   ]
  },
  {
   "cell_type": "code",
   "execution_count": null,
   "metadata": {},
   "outputs": [],
   "source": [
    "#Most Popular Items Need to break out by purchase count to sum Item ID, \"Item Name\", \"Purchase Count\", \"Item Price\",\"Total Purchase Value\"\n",
    "#purchase_df.groupby([\"Item ID\"]).sum().sort_values\n",
    "purchase_df.groupby([\"SN\"]).sum().sort_values(\"Price\", ascending=False).head()"
   ]
  },
  {
   "cell_type": "code",
   "execution_count": 152,
   "metadata": {},
   "outputs": [
    {
     "ename": "SyntaxError",
     "evalue": "invalid syntax (<ipython-input-152-a1390fa75209>, line 18)",
     "output_type": "error",
     "traceback": [
      "\u001b[1;36m  File \u001b[1;32m\"<ipython-input-152-a1390fa75209>\"\u001b[1;36m, line \u001b[1;32m18\u001b[0m\n\u001b[1;33m    \"Item Price\":\u001b[0m\n\u001b[1;37m                ^\u001b[0m\n\u001b[1;31mSyntaxError\u001b[0m\u001b[1;31m:\u001b[0m invalid syntax\n"
     ]
    }
   ],
   "source": [
    "#Most Popular Items DF - top 5 for each\n",
    "#Most Popular\n",
    "most_pop = purchase_df.groupby([\"Item ID\"]).sum().sort_values(\"Price\", ascending=False).head()\n",
    "#Item Name\n",
    "name = purchase_df.groupby([\"Item Name\"]).sum().sort_values(\"Price\", ascending=False).head()\n",
    "#Purchase count\n",
    "purchase_count = purchase_df.groupby([\"Purchase ID\"]).count().sort_values(\"Price\", ascending=False).head()\n",
    "#item price\n",
    "item_price = groupItem[\"Price\"].count()\n",
    "total_pur_value = groupItem[\"Price\"].sum()\n",
    "\n",
    "#groupItemP = (groupPriceSum / groupItemC)\n",
    "#groupItemV = (groupItemP * groupItemC)\n",
    "purchase_df.loc[\"\"]\n",
    "popular_df = pd.DataFrame ({\"Item ID\":[most_pop] , \n",
    "                                 \"Item Name\":[name] ,\n",
    "                                 \"Purchase Count\":\n",
    "                                 \"Item Price\":\n",
    "                                 \"Total Purchase Value\":\n",
    "                           })\n",
    "popular.df\n"
   ]
  },
  {
   "cell_type": "code",
   "execution_count": null,
   "metadata": {},
   "outputs": [],
   "source": [
    "\n",
    "# Place the data series into a new column inside of the DataFrame\n",
    "#ted_df[\"View Group\"] = pd.cut(ted_df[\"views\"], bins, labels=group_labels)\n",
    "#ted_df.head()"
   ]
  },
  {
   "cell_type": "code",
   "execution_count": null,
   "metadata": {},
   "outputs": [],
   "source": [
    "#Most Profitableto five\n",
    "df.loc['cobra':'viper', 'max_speed']\n",
    "\n",
    "profitable_df = pd.DataFrame ({\"Item ID\": ), \n",
    "                                 \"Item Name\":  ,\n",
    "                                 \"Purchase Count\":\n",
    "                                 \"Item Price\":\n",
    "                                 \"Total Purchase Value\":\n",
    "                           })"
   ]
  },
  {
   "cell_type": "code",
   "execution_count": null,
   "metadata": {},
   "outputs": [],
   "source": []
  }
 ],
 "metadata": {
  "kernelspec": {
   "display_name": "Python 3",
   "language": "python",
   "name": "python3"
  },
  "language_info": {
   "codemirror_mode": {
    "name": "ipython",
    "version": 3
   },
   "file_extension": ".py",
   "mimetype": "text/x-python",
   "name": "python",
   "nbconvert_exporter": "python",
   "pygments_lexer": "ipython3",
   "version": "3.6.10"
  }
 },
 "nbformat": 4,
 "nbformat_minor": 4
}
