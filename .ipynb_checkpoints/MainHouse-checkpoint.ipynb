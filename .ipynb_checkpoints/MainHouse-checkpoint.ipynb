{
 "cells": [
  {
   "cell_type": "code",
   "execution_count": 2,
   "metadata": {},
   "outputs": [],
   "source": [
    "# Import Dependencies\n",
    "import pandas as pd\n",
    "import csv\n",
    "import os\n"
   ]
  },
  {
   "cell_type": "code",
   "execution_count": 3,
   "metadata": {},
   "outputs": [
    {
     "data": {
      "text/html": [
       "<div>\n",
       "<style scoped>\n",
       "    .dataframe tbody tr th:only-of-type {\n",
       "        vertical-align: middle;\n",
       "    }\n",
       "\n",
       "    .dataframe tbody tr th {\n",
       "        vertical-align: top;\n",
       "    }\n",
       "\n",
       "    .dataframe thead th {\n",
       "        text-align: right;\n",
       "    }\n",
       "</style>\n",
       "<table border=\"1\" class=\"dataframe\">\n",
       "  <thead>\n",
       "    <tr style=\"text-align: right;\">\n",
       "      <th></th>\n",
       "      <th>Purchase ID</th>\n",
       "      <th>SN</th>\n",
       "      <th>Age</th>\n",
       "      <th>Gender</th>\n",
       "      <th>Item ID</th>\n",
       "      <th>Item Name</th>\n",
       "      <th>Price</th>\n",
       "    </tr>\n",
       "  </thead>\n",
       "  <tbody>\n",
       "    <tr>\n",
       "      <th>0</th>\n",
       "      <td>0</td>\n",
       "      <td>Lisim78</td>\n",
       "      <td>20</td>\n",
       "      <td>Male</td>\n",
       "      <td>108</td>\n",
       "      <td>Extraction, Quickblade Of Trembling Hands</td>\n",
       "      <td>3.53</td>\n",
       "    </tr>\n",
       "    <tr>\n",
       "      <th>1</th>\n",
       "      <td>1</td>\n",
       "      <td>Lisovynya38</td>\n",
       "      <td>40</td>\n",
       "      <td>Male</td>\n",
       "      <td>143</td>\n",
       "      <td>Frenzied Scimitar</td>\n",
       "      <td>1.56</td>\n",
       "    </tr>\n",
       "    <tr>\n",
       "      <th>2</th>\n",
       "      <td>2</td>\n",
       "      <td>Ithergue48</td>\n",
       "      <td>24</td>\n",
       "      <td>Male</td>\n",
       "      <td>92</td>\n",
       "      <td>Final Critic</td>\n",
       "      <td>4.88</td>\n",
       "    </tr>\n",
       "    <tr>\n",
       "      <th>3</th>\n",
       "      <td>3</td>\n",
       "      <td>Chamassasya86</td>\n",
       "      <td>24</td>\n",
       "      <td>Male</td>\n",
       "      <td>100</td>\n",
       "      <td>Blindscythe</td>\n",
       "      <td>3.27</td>\n",
       "    </tr>\n",
       "    <tr>\n",
       "      <th>4</th>\n",
       "      <td>4</td>\n",
       "      <td>Iskosia90</td>\n",
       "      <td>23</td>\n",
       "      <td>Male</td>\n",
       "      <td>131</td>\n",
       "      <td>Fury</td>\n",
       "      <td>1.44</td>\n",
       "    </tr>\n",
       "  </tbody>\n",
       "</table>\n",
       "</div>"
      ],
      "text/plain": [
       "   Purchase ID             SN  Age Gender  Item ID  \\\n",
       "0            0        Lisim78   20   Male      108   \n",
       "1            1    Lisovynya38   40   Male      143   \n",
       "2            2     Ithergue48   24   Male       92   \n",
       "3            3  Chamassasya86   24   Male      100   \n",
       "4            4      Iskosia90   23   Male      131   \n",
       "\n",
       "                                   Item Name  Price  \n",
       "0  Extraction, Quickblade Of Trembling Hands   3.53  \n",
       "1                          Frenzied Scimitar   1.56  \n",
       "2                               Final Critic   4.88  \n",
       "3                                Blindscythe   3.27  \n",
       "4                                       Fury   1.44  "
      ]
     },
     "execution_count": 3,
     "metadata": {},
     "output_type": "execute_result"
    }
   ],
   "source": [
    "# File to Load\n",
    "purchase_data_path = \"Resources/purchase_data.csv\"\n",
    "\n",
    "# Read modified Purchase Data csv and store into Pandas DataFrame\n",
    "purchase_df = pd.read_csv(purchase_data_path)\n",
    "purchase_df.head()"
   ]
  },
  {
   "cell_type": "code",
   "execution_count": 4,
   "metadata": {},
   "outputs": [
    {
     "data": {
      "text/plain": [
       "576"
      ]
     },
     "execution_count": 4,
     "metadata": {},
     "output_type": "execute_result"
    }
   ],
   "source": [
    "#Count the total number of players # How to add headings?? \n",
    "purchase_df[\"SN\"].unique()\n",
    "len(purchase_df[\"SN\"].unique())"
   ]
  },
  {
   "cell_type": "code",
   "execution_count": null,
   "metadata": {},
   "outputs": [],
   "source": []
  },
  {
   "cell_type": "code",
   "execution_count": 5,
   "metadata": {},
   "outputs": [
    {
     "data": {
      "text/plain": [
       "179"
      ]
     },
     "execution_count": 5,
     "metadata": {},
     "output_type": "execute_result"
    }
   ],
   "source": [
    "# Number of Unique Items\n",
    "len(purchase_df[\"Item Name\"].unique())\n"
   ]
  },
  {
   "cell_type": "code",
   "execution_count": 6,
   "metadata": {},
   "outputs": [
    {
     "data": {
      "text/plain": [
       "3.050987179487176"
      ]
     },
     "execution_count": 6,
     "metadata": {},
     "output_type": "execute_result"
    }
   ],
   "source": [
    "# Average purchase Price\n",
    "purchase_df['Price'].mean()\n"
   ]
  },
  {
   "cell_type": "code",
   "execution_count": 7,
   "metadata": {},
   "outputs": [
    {
     "data": {
      "text/plain": [
       "780"
      ]
     },
     "execution_count": 7,
     "metadata": {},
     "output_type": "execute_result"
    }
   ],
   "source": [
    "# TotalNumber of Purchases\n",
    "len(purchase_df['Purchase ID'])\n"
   ]
  },
  {
   "cell_type": "code",
   "execution_count": 8,
   "metadata": {},
   "outputs": [
    {
     "data": {
      "text/plain": [
       "2379.7699999999973"
      ]
     },
     "execution_count": 8,
     "metadata": {},
     "output_type": "execute_result"
    }
   ],
   "source": [
    "# Total Rev\n",
    "sum(purchase_df['Price'])"
   ]
  },
  {
   "cell_type": "code",
   "execution_count": 9,
   "metadata": {},
   "outputs": [],
   "source": [
    "#How to create a summary data frame"
   ]
  },
  {
   "cell_type": "code",
   "execution_count": 10,
   "metadata": {},
   "outputs": [
    {
     "data": {
      "text/html": [
       "<div>\n",
       "<style scoped>\n",
       "    .dataframe tbody tr th:only-of-type {\n",
       "        vertical-align: middle;\n",
       "    }\n",
       "\n",
       "    .dataframe tbody tr th {\n",
       "        vertical-align: top;\n",
       "    }\n",
       "\n",
       "    .dataframe thead th {\n",
       "        text-align: right;\n",
       "    }\n",
       "</style>\n",
       "<table border=\"1\" class=\"dataframe\">\n",
       "  <thead>\n",
       "    <tr style=\"text-align: right;\">\n",
       "      <th></th>\n",
       "      <th>Purchase ID</th>\n",
       "      <th>SN</th>\n",
       "      <th>Age</th>\n",
       "      <th>Item ID</th>\n",
       "    </tr>\n",
       "    <tr>\n",
       "      <th>Gender</th>\n",
       "      <th></th>\n",
       "      <th></th>\n",
       "      <th></th>\n",
       "      <th></th>\n",
       "    </tr>\n",
       "  </thead>\n",
       "  <tbody>\n",
       "    <tr>\n",
       "      <th>Female</th>\n",
       "      <td>113</td>\n",
       "      <td>113</td>\n",
       "      <td>113</td>\n",
       "      <td>113</td>\n",
       "    </tr>\n",
       "    <tr>\n",
       "      <th>Male</th>\n",
       "      <td>652</td>\n",
       "      <td>652</td>\n",
       "      <td>652</td>\n",
       "      <td>652</td>\n",
       "    </tr>\n",
       "    <tr>\n",
       "      <th>Other / Non-Disclosed</th>\n",
       "      <td>15</td>\n",
       "      <td>15</td>\n",
       "      <td>15</td>\n",
       "      <td>15</td>\n",
       "    </tr>\n",
       "  </tbody>\n",
       "</table>\n",
       "</div>"
      ],
      "text/plain": [
       "                       Purchase ID   SN  Age  Item ID\n",
       "Gender                                               \n",
       "Female                         113  113  113      113\n",
       "Male                           652  652  652      652\n",
       "Other / Non-Disclosed           15   15   15       15"
      ]
     },
     "execution_count": 10,
     "metadata": {},
     "output_type": "execute_result"
    }
   ],
   "source": [
    "# Count of Female,Male and Nonbinary Players\n",
    "\n",
    "Gender_players_df = purchase_df.groupby([\"Gender\"]) # How to add sum to the same line?\n",
    "Gender_players_df.count().drop(columns=['Item Name', 'Price'])\n"
   ]
  },
  {
   "cell_type": "code",
   "execution_count": null,
   "metadata": {},
   "outputs": [],
   "source": []
  },
  {
   "cell_type": "code",
   "execution_count": 11,
   "metadata": {},
   "outputs": [],
   "source": [
    "# Percent by each gender. How to sum out and figure percentage??\n",
    "#Gender_players_df(['SN'] / df['SN'].sum() * 100)"
   ]
  },
  {
   "cell_type": "code",
   "execution_count": 12,
   "metadata": {},
   "outputs": [
    {
     "ename": "TypeError",
     "evalue": "f() takes 1 positional argument but 2 were given",
     "output_type": "error",
     "traceback": [
      "\u001b[1;31m---------------------------------------------------------------------------\u001b[0m",
      "\u001b[1;31mTypeError\u001b[0m                                 Traceback (most recent call last)",
      "\u001b[1;32m<ipython-input-12-5dbc16f3f61d>\u001b[0m in \u001b[0;36m<module>\u001b[1;34m\u001b[0m\n\u001b[0;32m      1\u001b[0m \u001b[1;31m#Break out Purchase count, avg purchase price, total purchase value, avg purchasre total/person by gender - Build a dataframe from the groupby?\u001b[0m\u001b[1;33m\u001b[0m\u001b[1;33m\u001b[0m\u001b[1;33m\u001b[0m\u001b[0m\n\u001b[1;32m----> 2\u001b[1;33m Gender_breakout_df = pd.DataFrame([{\"Total Purchases\": Gender_players_df.sum(\"Purchase ID\"),\n\u001b[0m\u001b[0;32m      3\u001b[0m                                   \u001b[1;34m\"Average Purchase Price\"\u001b[0m\u001b[1;33m:\u001b[0m \u001b[0mGender_players_df\u001b[0m\u001b[1;33m.\u001b[0m\u001b[0mmean\u001b[0m\u001b[1;33m(\u001b[0m\u001b[1;34m\"Price\"\u001b[0m\u001b[1;33m)\u001b[0m\u001b[1;33m,\u001b[0m\u001b[1;33m\u001b[0m\u001b[1;33m\u001b[0m\u001b[0m\n\u001b[0;32m      4\u001b[0m                                    \u001b[1;34m\"Total Purchase Value\"\u001b[0m \u001b[1;33m:\u001b[0m \u001b[0mGender_players_df\u001b[0m\u001b[1;33m.\u001b[0m\u001b[0msum\u001b[0m\u001b[1;33m(\u001b[0m\u001b[1;34m\"Price\"\u001b[0m\u001b[1;33m)\u001b[0m\u001b[1;33m,\u001b[0m\u001b[1;33m\u001b[0m\u001b[1;33m\u001b[0m\u001b[0m\n\u001b[0;32m      5\u001b[0m                                     \u001b[1;34m\"Average Purchase Total Per Person by Gender\"\u001b[0m\u001b[1;33m:\u001b[0m \u001b[0mGender_players_df\u001b[0m\u001b[1;33m.\u001b[0m\u001b[0mmean\u001b[0m\u001b[1;33m(\u001b[0m\u001b[1;34m\"Gender\"\u001b[0m\u001b[1;33m)\u001b[0m\u001b[1;33m\u001b[0m\u001b[1;33m\u001b[0m\u001b[0m\n",
      "\u001b[1;31mTypeError\u001b[0m: f() takes 1 positional argument but 2 were given"
     ]
    }
   ],
   "source": [
    "#Break out Purchase count, avg purchase price, total purchase value, avg purchasre total/person by gender - Build a dataframe from the groupby? \n",
    "Gender_breakout_df = pd.DataFrame([{\"Total Purchases\": Gender_players_df.sum(\"Purchase ID\"),\n",
    "                                  \"Average Purchase Price\": Gender_players_df.mean(\"Price\"),\n",
    "                                   \"Total Purchase Value\" : Gender_players_df.sum(\"Price\"),\n",
    "                                    \"Average Purchase Total Per Person by Gender\": Gender_players_df.mean(\"Gender\") \n",
    "                        }])\n",
    "Gender_players_df.head()\n",
    "Gender_player.df.loc[:,[]]"
   ]
  },
  {
   "cell_type": "code",
   "execution_count": 13,
   "metadata": {},
   "outputs": [
    {
     "data": {
      "text/plain": [
       "Gender                 Age\n",
       "Female                 20     14\n",
       "                       21     13\n",
       "                       22     13\n",
       "                       15     10\n",
       "                       23      9\n",
       "                              ..\n",
       "Other / Non-Disclosed  25      2\n",
       "                       35      2\n",
       "                       38      2\n",
       "                       21      1\n",
       "                       24      1\n",
       "Name: Age, Length: 69, dtype: int64"
      ]
     },
     "execution_count": 13,
     "metadata": {},
     "output_type": "execute_result"
    }
   ],
   "source": [
    "#Use grouped data and filer from there Gender > Age\n",
    "Gender_players_df[\"Age\"].value_counts()\n"
   ]
  },
  {
   "cell_type": "code",
   "execution_count": 14,
   "metadata": {
    "scrolled": true
   },
   "outputs": [
    {
     "data": {
      "text/plain": [
       "{'Female': Int64Index([ 15,  18,  38,  41,  55,  66,  71,  72,  76,  81,\n",
       "             ...\n",
       "             697, 698, 699, 714, 727, 731, 740, 754, 767, 775],\n",
       "            dtype='int64', length=113),\n",
       " 'Male': Int64Index([  0,   1,   2,   3,   4,   5,   6,   7,   8,  10,\n",
       "             ...\n",
       "             769, 770, 771, 772, 773, 774, 776, 777, 778, 779],\n",
       "            dtype='int64', length=652),\n",
       " 'Other / Non-Disclosed': Int64Index([9, 22, 82, 111, 228, 237, 242, 291, 350, 401, 484, 549, 629, 637,\n",
       "             747],\n",
       "            dtype='int64')}"
      ]
     },
     "execution_count": 14,
     "metadata": {},
     "output_type": "execute_result"
    }
   ],
   "source": [
    "Gender_players_df.groups"
   ]
  },
  {
   "cell_type": "code",
   "execution_count": 15,
   "metadata": {},
   "outputs": [
    {
     "data": {
      "text/html": [
       "<div>\n",
       "<style scoped>\n",
       "    .dataframe tbody tr th:only-of-type {\n",
       "        vertical-align: middle;\n",
       "    }\n",
       "\n",
       "    .dataframe tbody tr th {\n",
       "        vertical-align: top;\n",
       "    }\n",
       "\n",
       "    .dataframe thead th {\n",
       "        text-align: right;\n",
       "    }\n",
       "</style>\n",
       "<table border=\"1\" class=\"dataframe\">\n",
       "  <thead>\n",
       "    <tr style=\"text-align: right;\">\n",
       "      <th></th>\n",
       "      <th>Purchase ID</th>\n",
       "      <th>SN</th>\n",
       "      <th>Age</th>\n",
       "      <th>Gender</th>\n",
       "      <th>Item ID</th>\n",
       "      <th>Item Name</th>\n",
       "      <th>Price</th>\n",
       "    </tr>\n",
       "  </thead>\n",
       "  <tbody>\n",
       "    <tr>\n",
       "      <th>15</th>\n",
       "      <td>15</td>\n",
       "      <td>Lisassa64</td>\n",
       "      <td>21</td>\n",
       "      <td>Female</td>\n",
       "      <td>98</td>\n",
       "      <td>Deadline, Voice Of Subtlety</td>\n",
       "      <td>2.89</td>\n",
       "    </tr>\n",
       "    <tr>\n",
       "      <th>18</th>\n",
       "      <td>18</td>\n",
       "      <td>Reunasu60</td>\n",
       "      <td>22</td>\n",
       "      <td>Female</td>\n",
       "      <td>82</td>\n",
       "      <td>Nirvana</td>\n",
       "      <td>4.90</td>\n",
       "    </tr>\n",
       "    <tr>\n",
       "      <th>38</th>\n",
       "      <td>38</td>\n",
       "      <td>Reulae52</td>\n",
       "      <td>10</td>\n",
       "      <td>Female</td>\n",
       "      <td>116</td>\n",
       "      <td>Renewed Skeletal Katana</td>\n",
       "      <td>4.18</td>\n",
       "    </tr>\n",
       "    <tr>\n",
       "      <th>41</th>\n",
       "      <td>41</td>\n",
       "      <td>Assosia88</td>\n",
       "      <td>20</td>\n",
       "      <td>Female</td>\n",
       "      <td>7</td>\n",
       "      <td>Thorn, Satchel of Dark Souls</td>\n",
       "      <td>1.33</td>\n",
       "    </tr>\n",
       "    <tr>\n",
       "      <th>55</th>\n",
       "      <td>55</td>\n",
       "      <td>Phaelap26</td>\n",
       "      <td>25</td>\n",
       "      <td>Female</td>\n",
       "      <td>84</td>\n",
       "      <td>Arcane Gem</td>\n",
       "      <td>3.79</td>\n",
       "    </tr>\n",
       "    <tr>\n",
       "      <th>...</th>\n",
       "      <td>...</td>\n",
       "      <td>...</td>\n",
       "      <td>...</td>\n",
       "      <td>...</td>\n",
       "      <td>...</td>\n",
       "      <td>...</td>\n",
       "      <td>...</td>\n",
       "    </tr>\n",
       "    <tr>\n",
       "      <th>731</th>\n",
       "      <td>731</td>\n",
       "      <td>Eudanu84</td>\n",
       "      <td>22</td>\n",
       "      <td>Female</td>\n",
       "      <td>12</td>\n",
       "      <td>Dawne</td>\n",
       "      <td>1.02</td>\n",
       "    </tr>\n",
       "    <tr>\n",
       "      <th>740</th>\n",
       "      <td>740</td>\n",
       "      <td>Reunasu60</td>\n",
       "      <td>22</td>\n",
       "      <td>Female</td>\n",
       "      <td>127</td>\n",
       "      <td>Heartseeker, Reaver of Souls</td>\n",
       "      <td>3.92</td>\n",
       "    </tr>\n",
       "    <tr>\n",
       "      <th>754</th>\n",
       "      <td>754</td>\n",
       "      <td>Pheosurllorin41</td>\n",
       "      <td>23</td>\n",
       "      <td>Female</td>\n",
       "      <td>79</td>\n",
       "      <td>Alpha, Oath of Zeal</td>\n",
       "      <td>4.05</td>\n",
       "    </tr>\n",
       "    <tr>\n",
       "      <th>767</th>\n",
       "      <td>767</td>\n",
       "      <td>Ilmol66</td>\n",
       "      <td>8</td>\n",
       "      <td>Female</td>\n",
       "      <td>92</td>\n",
       "      <td>Final Critic</td>\n",
       "      <td>4.88</td>\n",
       "    </tr>\n",
       "    <tr>\n",
       "      <th>775</th>\n",
       "      <td>775</td>\n",
       "      <td>Aethedru70</td>\n",
       "      <td>21</td>\n",
       "      <td>Female</td>\n",
       "      <td>60</td>\n",
       "      <td>Wolf</td>\n",
       "      <td>3.54</td>\n",
       "    </tr>\n",
       "  </tbody>\n",
       "</table>\n",
       "<p>113 rows × 7 columns</p>\n",
       "</div>"
      ],
      "text/plain": [
       "     Purchase ID               SN  Age  Gender  Item ID  \\\n",
       "15            15        Lisassa64   21  Female       98   \n",
       "18            18        Reunasu60   22  Female       82   \n",
       "38            38         Reulae52   10  Female      116   \n",
       "41            41        Assosia88   20  Female        7   \n",
       "55            55        Phaelap26   25  Female       84   \n",
       "..           ...              ...  ...     ...      ...   \n",
       "731          731         Eudanu84   22  Female       12   \n",
       "740          740        Reunasu60   22  Female      127   \n",
       "754          754  Pheosurllorin41   23  Female       79   \n",
       "767          767          Ilmol66    8  Female       92   \n",
       "775          775       Aethedru70   21  Female       60   \n",
       "\n",
       "                        Item Name  Price  \n",
       "15    Deadline, Voice Of Subtlety   2.89  \n",
       "18                        Nirvana   4.90  \n",
       "38        Renewed Skeletal Katana   4.18  \n",
       "41   Thorn, Satchel of Dark Souls   1.33  \n",
       "55                     Arcane Gem   3.79  \n",
       "..                            ...    ...  \n",
       "731                         Dawne   1.02  \n",
       "740  Heartseeker, Reaver of Souls   3.92  \n",
       "754           Alpha, Oath of Zeal   4.05  \n",
       "767                  Final Critic   4.88  \n",
       "775                          Wolf   3.54  \n",
       "\n",
       "[113 rows x 7 columns]"
      ]
     },
     "execution_count": 15,
     "metadata": {},
     "output_type": "execute_result"
    }
   ],
   "source": [
    "Gender_players_df.get_group('Female') # How to sum from here?"
   ]
  },
  {
   "cell_type": "code",
   "execution_count": 34,
   "metadata": {},
   "outputs": [
    {
     "data": {
      "text/plain": [
       "Purchase ID                                               255921\n",
       "SN             Lisim78Lisovynya38Ithergue48Chamassasya86Iskos...\n",
       "Age                                                        14942\n",
       "Gender         MaleMaleMaleMaleMaleMaleMaleMaleMaleMaleMaleMa...\n",
       "Item ID                                                    60698\n",
       "Item Name      Extraction, Quickblade Of Trembling HandsFrenz...\n",
       "Price                                                    1967.64\n",
       "dtype: object"
      ]
     },
     "execution_count": 34,
     "metadata": {},
     "output_type": "execute_result"
    }
   ],
   "source": [
    "Gender_players_df.get_group('Male').sum()\n"
   ]
  },
  {
   "cell_type": "code",
   "execution_count": 16,
   "metadata": {},
   "outputs": [
    {
     "data": {
      "text/plain": [
       "(     Purchase ID               SN  Age  Gender  Item ID  \\\n",
       " 15            15        Lisassa64   21  Female       98   \n",
       " 18            18        Reunasu60   22  Female       82   \n",
       " 38            38         Reulae52   10  Female      116   \n",
       " 41            41        Assosia88   20  Female        7   \n",
       " 55            55        Phaelap26   25  Female       84   \n",
       " ..           ...              ...  ...     ...      ...   \n",
       " 731          731         Eudanu84   22  Female       12   \n",
       " 740          740        Reunasu60   22  Female      127   \n",
       " 754          754  Pheosurllorin41   23  Female       79   \n",
       " 767          767          Ilmol66    8  Female       92   \n",
       " 775          775       Aethedru70   21  Female       60   \n",
       " \n",
       "                         Item Name  Price  \n",
       " 15    Deadline, Voice Of Subtlety   2.89  \n",
       " 18                        Nirvana   4.90  \n",
       " 38        Renewed Skeletal Katana   4.18  \n",
       " 41   Thorn, Satchel of Dark Souls   1.33  \n",
       " 55                     Arcane Gem   3.79  \n",
       " ..                            ...    ...  \n",
       " 731                         Dawne   1.02  \n",
       " 740  Heartseeker, Reaver of Souls   3.92  \n",
       " 754           Alpha, Oath of Zeal   4.05  \n",
       " 767                  Final Critic   4.88  \n",
       " 775                          Wolf   3.54  \n",
       " \n",
       " [113 rows x 7 columns],\n",
       " ['Price'])"
      ]
     },
     "execution_count": 16,
     "metadata": {},
     "output_type": "execute_result"
    }
   ],
   "source": [
    "\n",
    "#Pulled out female playser and price \n",
    "Gender_players_df.get_group('Female'),[\"Price\"]"
   ]
  },
  {
   "cell_type": "code",
   "execution_count": 17,
   "metadata": {},
   "outputs": [
    {
     "data": {
      "text/html": [
       "<div>\n",
       "<style scoped>\n",
       "    .dataframe tbody tr th:only-of-type {\n",
       "        vertical-align: middle;\n",
       "    }\n",
       "\n",
       "    .dataframe tbody tr th {\n",
       "        vertical-align: top;\n",
       "    }\n",
       "\n",
       "    .dataframe thead th {\n",
       "        text-align: right;\n",
       "    }\n",
       "</style>\n",
       "<table border=\"1\" class=\"dataframe\">\n",
       "  <thead>\n",
       "    <tr style=\"text-align: right;\">\n",
       "      <th></th>\n",
       "      <th>Purchase ID</th>\n",
       "      <th>Age</th>\n",
       "      <th>Item ID</th>\n",
       "      <th>Price</th>\n",
       "    </tr>\n",
       "    <tr>\n",
       "      <th>Gender</th>\n",
       "      <th></th>\n",
       "      <th></th>\n",
       "      <th></th>\n",
       "      <th></th>\n",
       "    </tr>\n",
       "  </thead>\n",
       "  <tbody>\n",
       "    <tr>\n",
       "      <th>Female</th>\n",
       "      <td>379.380531</td>\n",
       "      <td>21.345133</td>\n",
       "      <td>85.477876</td>\n",
       "      <td>3.203009</td>\n",
       "    </tr>\n",
       "    <tr>\n",
       "      <th>Male</th>\n",
       "      <td>392.516871</td>\n",
       "      <td>22.917178</td>\n",
       "      <td>93.095092</td>\n",
       "      <td>3.017853</td>\n",
       "    </tr>\n",
       "    <tr>\n",
       "      <th>Other / Non-Disclosed</th>\n",
       "      <td>334.600000</td>\n",
       "      <td>24.200000</td>\n",
       "      <td>80.800000</td>\n",
       "      <td>3.346000</td>\n",
       "    </tr>\n",
       "  </tbody>\n",
       "</table>\n",
       "</div>"
      ],
      "text/plain": [
       "                       Purchase ID        Age    Item ID     Price\n",
       "Gender                                                            \n",
       "Female                  379.380531  21.345133  85.477876  3.203009\n",
       "Male                    392.516871  22.917178  93.095092  3.017853\n",
       "Other / Non-Disclosed   334.600000  24.200000  80.800000  3.346000"
      ]
     },
     "execution_count": 17,
     "metadata": {},
     "output_type": "execute_result"
    }
   ],
   "source": [
    "Gender_players_df.mean()"
   ]
  },
  {
   "cell_type": "code",
   "execution_count": 18,
   "metadata": {},
   "outputs": [
    {
     "data": {
      "text/html": [
       "<div>\n",
       "<style scoped>\n",
       "    .dataframe tbody tr th:only-of-type {\n",
       "        vertical-align: middle;\n",
       "    }\n",
       "\n",
       "    .dataframe tbody tr th {\n",
       "        vertical-align: top;\n",
       "    }\n",
       "\n",
       "    .dataframe thead tr th {\n",
       "        text-align: left;\n",
       "    }\n",
       "\n",
       "    .dataframe thead tr:last-of-type th {\n",
       "        text-align: right;\n",
       "    }\n",
       "</style>\n",
       "<table border=\"1\" class=\"dataframe\">\n",
       "  <thead>\n",
       "    <tr>\n",
       "      <th></th>\n",
       "      <th colspan=\"8\" halign=\"left\">Purchase ID</th>\n",
       "      <th colspan=\"2\" halign=\"left\">Age</th>\n",
       "      <th>...</th>\n",
       "      <th colspan=\"2\" halign=\"left\">Item ID</th>\n",
       "      <th colspan=\"8\" halign=\"left\">Price</th>\n",
       "    </tr>\n",
       "    <tr>\n",
       "      <th></th>\n",
       "      <th>count</th>\n",
       "      <th>mean</th>\n",
       "      <th>std</th>\n",
       "      <th>min</th>\n",
       "      <th>25%</th>\n",
       "      <th>50%</th>\n",
       "      <th>75%</th>\n",
       "      <th>max</th>\n",
       "      <th>count</th>\n",
       "      <th>mean</th>\n",
       "      <th>...</th>\n",
       "      <th>75%</th>\n",
       "      <th>max</th>\n",
       "      <th>count</th>\n",
       "      <th>mean</th>\n",
       "      <th>std</th>\n",
       "      <th>min</th>\n",
       "      <th>25%</th>\n",
       "      <th>50%</th>\n",
       "      <th>75%</th>\n",
       "      <th>max</th>\n",
       "    </tr>\n",
       "    <tr>\n",
       "      <th>Gender</th>\n",
       "      <th></th>\n",
       "      <th></th>\n",
       "      <th></th>\n",
       "      <th></th>\n",
       "      <th></th>\n",
       "      <th></th>\n",
       "      <th></th>\n",
       "      <th></th>\n",
       "      <th></th>\n",
       "      <th></th>\n",
       "      <th></th>\n",
       "      <th></th>\n",
       "      <th></th>\n",
       "      <th></th>\n",
       "      <th></th>\n",
       "      <th></th>\n",
       "      <th></th>\n",
       "      <th></th>\n",
       "      <th></th>\n",
       "      <th></th>\n",
       "      <th></th>\n",
       "    </tr>\n",
       "  </thead>\n",
       "  <tbody>\n",
       "    <tr>\n",
       "      <th>Female</th>\n",
       "      <td>113.0</td>\n",
       "      <td>379.380531</td>\n",
       "      <td>211.605484</td>\n",
       "      <td>15.0</td>\n",
       "      <td>199.00</td>\n",
       "      <td>392.0</td>\n",
       "      <td>558.00</td>\n",
       "      <td>775.0</td>\n",
       "      <td>113.0</td>\n",
       "      <td>21.345133</td>\n",
       "      <td>...</td>\n",
       "      <td>129.0</td>\n",
       "      <td>183.0</td>\n",
       "      <td>113.0</td>\n",
       "      <td>3.203009</td>\n",
       "      <td>1.158194</td>\n",
       "      <td>1.00</td>\n",
       "      <td>2.2800</td>\n",
       "      <td>3.45</td>\n",
       "      <td>4.230</td>\n",
       "      <td>4.90</td>\n",
       "    </tr>\n",
       "    <tr>\n",
       "      <th>Male</th>\n",
       "      <td>652.0</td>\n",
       "      <td>392.516871</td>\n",
       "      <td>227.516414</td>\n",
       "      <td>0.0</td>\n",
       "      <td>193.75</td>\n",
       "      <td>390.5</td>\n",
       "      <td>592.25</td>\n",
       "      <td>779.0</td>\n",
       "      <td>652.0</td>\n",
       "      <td>22.917178</td>\n",
       "      <td>...</td>\n",
       "      <td>139.0</td>\n",
       "      <td>183.0</td>\n",
       "      <td>652.0</td>\n",
       "      <td>3.017853</td>\n",
       "      <td>1.175625</td>\n",
       "      <td>1.00</td>\n",
       "      <td>1.9625</td>\n",
       "      <td>3.09</td>\n",
       "      <td>4.080</td>\n",
       "      <td>4.99</td>\n",
       "    </tr>\n",
       "    <tr>\n",
       "      <th>Other / Non-Disclosed</th>\n",
       "      <td>15.0</td>\n",
       "      <td>334.600000</td>\n",
       "      <td>234.524991</td>\n",
       "      <td>9.0</td>\n",
       "      <td>169.50</td>\n",
       "      <td>291.0</td>\n",
       "      <td>516.50</td>\n",
       "      <td>747.0</td>\n",
       "      <td>15.0</td>\n",
       "      <td>24.200000</td>\n",
       "      <td>...</td>\n",
       "      <td>141.0</td>\n",
       "      <td>163.0</td>\n",
       "      <td>15.0</td>\n",
       "      <td>3.346000</td>\n",
       "      <td>0.883813</td>\n",
       "      <td>1.33</td>\n",
       "      <td>3.1000</td>\n",
       "      <td>3.45</td>\n",
       "      <td>3.875</td>\n",
       "      <td>4.75</td>\n",
       "    </tr>\n",
       "  </tbody>\n",
       "</table>\n",
       "<p>3 rows × 32 columns</p>\n",
       "</div>"
      ],
      "text/plain": [
       "                      Purchase ID                                        \\\n",
       "                            count        mean         std   min     25%   \n",
       "Gender                                                                    \n",
       "Female                      113.0  379.380531  211.605484  15.0  199.00   \n",
       "Male                        652.0  392.516871  227.516414   0.0  193.75   \n",
       "Other / Non-Disclosed        15.0  334.600000  234.524991   9.0  169.50   \n",
       "\n",
       "                                               Age             ... Item ID  \\\n",
       "                         50%     75%    max  count       mean  ...     75%   \n",
       "Gender                                                         ...           \n",
       "Female                 392.0  558.00  775.0  113.0  21.345133  ...   129.0   \n",
       "Male                   390.5  592.25  779.0  652.0  22.917178  ...   139.0   \n",
       "Other / Non-Disclosed  291.0  516.50  747.0   15.0  24.200000  ...   141.0   \n",
       "\n",
       "                              Price                                          \\\n",
       "                         max  count      mean       std   min     25%   50%   \n",
       "Gender                                                                        \n",
       "Female                 183.0  113.0  3.203009  1.158194  1.00  2.2800  3.45   \n",
       "Male                   183.0  652.0  3.017853  1.175625  1.00  1.9625  3.09   \n",
       "Other / Non-Disclosed  163.0   15.0  3.346000  0.883813  1.33  3.1000  3.45   \n",
       "\n",
       "                                    \n",
       "                         75%   max  \n",
       "Gender                              \n",
       "Female                 4.230  4.90  \n",
       "Male                   4.080  4.99  \n",
       "Other / Non-Disclosed  3.875  4.75  \n",
       "\n",
       "[3 rows x 32 columns]"
      ]
     },
     "execution_count": 18,
     "metadata": {},
     "output_type": "execute_result"
    }
   ],
   "source": [
    "#If I pull out the columbns does this answers the questions in that section? Need to pull applicable columns\n",
    "\n",
    "Gender_players_df.describe()"
   ]
  },
  {
   "cell_type": "code",
   "execution_count": 19,
   "metadata": {},
   "outputs": [
    {
     "data": {
      "text/plain": [
       "3.203008849557519"
      ]
     },
     "execution_count": 19,
     "metadata": {},
     "output_type": "execute_result"
    }
   ],
   "source": [
    "#Average total putrchase price by gender - check \n",
    "filter = purchase_df['Gender'] == \"Female\"\n",
    "purchase_df.loc[filter]['Price'].mean()"
   ]
  },
  {
   "cell_type": "code",
   "execution_count": 35,
   "metadata": {},
   "outputs": [
    {
     "data": {
      "text/plain": [
       "Gender                 Price\n",
       "Female                 4.40     5\n",
       "                       1.33     4\n",
       "                       4.90     4\n",
       "                       1.02     3\n",
       "                       2.73     3\n",
       "                               ..\n",
       "Other / Non-Disclosed  3.55     1\n",
       "                       3.58     1\n",
       "                       3.81     1\n",
       "                       4.40     1\n",
       "                       4.75     1\n",
       "Name: Price, Length: 235, dtype: int64"
      ]
     },
     "execution_count": 35,
     "metadata": {},
     "output_type": "execute_result"
    }
   ],
   "source": [
    "Gender_players_df['Price'].value_counts()"
   ]
  },
  {
   "cell_type": "code",
   "execution_count": null,
   "metadata": {},
   "outputs": [],
   "source": []
  },
  {
   "cell_type": "code",
   "execution_count": 21,
   "metadata": {},
   "outputs": [
    {
     "data": {
      "text/html": [
       "<div>\n",
       "<style scoped>\n",
       "    .dataframe tbody tr th:only-of-type {\n",
       "        vertical-align: middle;\n",
       "    }\n",
       "\n",
       "    .dataframe tbody tr th {\n",
       "        vertical-align: top;\n",
       "    }\n",
       "\n",
       "    .dataframe thead th {\n",
       "        text-align: right;\n",
       "    }\n",
       "</style>\n",
       "<table border=\"1\" class=\"dataframe\">\n",
       "  <thead>\n",
       "    <tr style=\"text-align: right;\">\n",
       "      <th></th>\n",
       "      <th>Purchase ID</th>\n",
       "      <th>SN</th>\n",
       "      <th>Age</th>\n",
       "      <th>Gender</th>\n",
       "      <th>Item ID</th>\n",
       "      <th>Item Name</th>\n",
       "      <th>Price</th>\n",
       "    </tr>\n",
       "  </thead>\n",
       "  <tbody>\n",
       "    <tr>\n",
       "      <th>0</th>\n",
       "      <td>0</td>\n",
       "      <td>Lisim78</td>\n",
       "      <td>20</td>\n",
       "      <td>Male</td>\n",
       "      <td>108</td>\n",
       "      <td>Extraction, Quickblade Of Trembling Hands</td>\n",
       "      <td>3.53</td>\n",
       "    </tr>\n",
       "    <tr>\n",
       "      <th>1</th>\n",
       "      <td>1</td>\n",
       "      <td>Lisovynya38</td>\n",
       "      <td>40</td>\n",
       "      <td>Male</td>\n",
       "      <td>143</td>\n",
       "      <td>Frenzied Scimitar</td>\n",
       "      <td>1.56</td>\n",
       "    </tr>\n",
       "    <tr>\n",
       "      <th>2</th>\n",
       "      <td>2</td>\n",
       "      <td>Ithergue48</td>\n",
       "      <td>24</td>\n",
       "      <td>Male</td>\n",
       "      <td>92</td>\n",
       "      <td>Final Critic</td>\n",
       "      <td>4.88</td>\n",
       "    </tr>\n",
       "    <tr>\n",
       "      <th>3</th>\n",
       "      <td>3</td>\n",
       "      <td>Chamassasya86</td>\n",
       "      <td>24</td>\n",
       "      <td>Male</td>\n",
       "      <td>100</td>\n",
       "      <td>Blindscythe</td>\n",
       "      <td>3.27</td>\n",
       "    </tr>\n",
       "    <tr>\n",
       "      <th>4</th>\n",
       "      <td>4</td>\n",
       "      <td>Iskosia90</td>\n",
       "      <td>23</td>\n",
       "      <td>Male</td>\n",
       "      <td>131</td>\n",
       "      <td>Fury</td>\n",
       "      <td>1.44</td>\n",
       "    </tr>\n",
       "    <tr>\n",
       "      <th>...</th>\n",
       "      <td>...</td>\n",
       "      <td>...</td>\n",
       "      <td>...</td>\n",
       "      <td>...</td>\n",
       "      <td>...</td>\n",
       "      <td>...</td>\n",
       "      <td>...</td>\n",
       "    </tr>\n",
       "    <tr>\n",
       "      <th>692</th>\n",
       "      <td>692</td>\n",
       "      <td>Quaecjask96</td>\n",
       "      <td>9</td>\n",
       "      <td>Male</td>\n",
       "      <td>78</td>\n",
       "      <td>Glimmer, Ender of the Moon</td>\n",
       "      <td>4.40</td>\n",
       "    </tr>\n",
       "    <tr>\n",
       "      <th>728</th>\n",
       "      <td>728</td>\n",
       "      <td>Chanosiaya39</td>\n",
       "      <td>44</td>\n",
       "      <td>Male</td>\n",
       "      <td>93</td>\n",
       "      <td>Apocalyptic Battlescythe</td>\n",
       "      <td>1.97</td>\n",
       "    </tr>\n",
       "    <tr>\n",
       "      <th>738</th>\n",
       "      <td>738</td>\n",
       "      <td>Eusur90</td>\n",
       "      <td>36</td>\n",
       "      <td>Male</td>\n",
       "      <td>121</td>\n",
       "      <td>Massacre</td>\n",
       "      <td>1.60</td>\n",
       "    </tr>\n",
       "    <tr>\n",
       "      <th>753</th>\n",
       "      <td>753</td>\n",
       "      <td>Frichirranya75</td>\n",
       "      <td>36</td>\n",
       "      <td>Male</td>\n",
       "      <td>178</td>\n",
       "      <td>Oathbreaker, Last Hope of the Breaking Storm</td>\n",
       "      <td>4.23</td>\n",
       "    </tr>\n",
       "    <tr>\n",
       "      <th>761</th>\n",
       "      <td>761</td>\n",
       "      <td>Assim27</td>\n",
       "      <td>45</td>\n",
       "      <td>Male</td>\n",
       "      <td>17</td>\n",
       "      <td>Lazarus, Terror of the Earth</td>\n",
       "      <td>1.70</td>\n",
       "    </tr>\n",
       "  </tbody>\n",
       "</table>\n",
       "<p>173 rows × 7 columns</p>\n",
       "</div>"
      ],
      "text/plain": [
       "     Purchase ID              SN  Age Gender  Item ID  \\\n",
       "0              0         Lisim78   20   Male      108   \n",
       "1              1     Lisovynya38   40   Male      143   \n",
       "2              2      Ithergue48   24   Male       92   \n",
       "3              3   Chamassasya86   24   Male      100   \n",
       "4              4       Iskosia90   23   Male      131   \n",
       "..           ...             ...  ...    ...      ...   \n",
       "692          692     Quaecjask96    9   Male       78   \n",
       "728          728    Chanosiaya39   44   Male       93   \n",
       "738          738         Eusur90   36   Male      121   \n",
       "753          753  Frichirranya75   36   Male      178   \n",
       "761          761         Assim27   45   Male       17   \n",
       "\n",
       "                                        Item Name  Price  \n",
       "0       Extraction, Quickblade Of Trembling Hands   3.53  \n",
       "1                               Frenzied Scimitar   1.56  \n",
       "2                                    Final Critic   4.88  \n",
       "3                                     Blindscythe   3.27  \n",
       "4                                            Fury   1.44  \n",
       "..                                            ...    ...  \n",
       "692                    Glimmer, Ender of the Moon   4.40  \n",
       "728                      Apocalyptic Battlescythe   1.97  \n",
       "738                                      Massacre   1.60  \n",
       "753  Oathbreaker, Last Hope of the Breaking Storm   4.23  \n",
       "761                  Lazarus, Terror of the Earth   1.70  \n",
       "\n",
       "[173 rows x 7 columns]"
      ]
     },
     "execution_count": 21,
     "metadata": {},
     "output_type": "execute_result"
    }
   ],
   "source": [
    "#Create group by Age \n",
    "Age_df = purchase_df.groupby([\"Age\"])\n",
    "Age_df.head()"
   ]
  },
  {
   "cell_type": "code",
   "execution_count": 36,
   "metadata": {},
   "outputs": [],
   "source": [
    "#Break into bins in 4 year increments # How to make over x age? > sign wont work for younger and older - error = ValueError: bins must increase monotonically.\n",
    "\n",
    "bins = [5.9,9.9,14.9,19.9,24.9,29.9,34.9,39.9,44.9,49.9,54.9, 59.9,150]\n",
    "group_names = [\"6-9\",\"10-14\",\"15-19\",\"20-24\",\"25-29\",\"30-34\",\"35-39\",\"40-44\",\"45-49\",\"50-54\",\"55-60\", \"Over 60\"]\n"
   ]
  },
  {
   "cell_type": "code",
   "execution_count": 37,
   "metadata": {},
   "outputs": [
    {
     "ename": "ValueError",
     "evalue": "setting an array element with a sequence.",
     "output_type": "error",
     "traceback": [
      "\u001b[1;31m---------------------------------------------------------------------------\u001b[0m",
      "\u001b[1;31mValueError\u001b[0m                                Traceback (most recent call last)",
      "\u001b[1;32m<ipython-input-37-07ee3ece35eb>\u001b[0m in \u001b[0;36m<module>\u001b[1;34m\u001b[0m\n\u001b[0;32m      3\u001b[0m \u001b[1;31m#New_Age_df = pd.cut(Age_df[\"Age\"], bins, labels=group_names).head()\u001b[0m\u001b[1;33m\u001b[0m\u001b[1;33m\u001b[0m\u001b[1;33m\u001b[0m\u001b[0m\n\u001b[0;32m      4\u001b[0m \u001b[1;31m#Age_df[\"Age\"] =\u001b[0m\u001b[1;33m\u001b[0m\u001b[1;33m\u001b[0m\u001b[1;33m\u001b[0m\u001b[0m\n\u001b[1;32m----> 5\u001b[1;33m \u001b[0mpd\u001b[0m\u001b[1;33m.\u001b[0m\u001b[0mcut\u001b[0m\u001b[1;33m(\u001b[0m\u001b[0mAge_df\u001b[0m\u001b[1;33m[\u001b[0m\u001b[1;34m\"Age\"\u001b[0m\u001b[1;33m]\u001b[0m\u001b[1;33m,\u001b[0m \u001b[0mbins\u001b[0m\u001b[1;33m,\u001b[0m \u001b[0mlabels\u001b[0m\u001b[1;33m=\u001b[0m\u001b[0mgroup_names\u001b[0m\u001b[1;33m,\u001b[0m \u001b[0minclude_lowest\u001b[0m\u001b[1;33m=\u001b[0m\u001b[1;32mTrue\u001b[0m\u001b[1;33m)\u001b[0m\u001b[1;33m.\u001b[0m\u001b[0mhead\u001b[0m\u001b[1;33m(\u001b[0m\u001b[1;33m)\u001b[0m\u001b[1;33m\u001b[0m\u001b[1;33m\u001b[0m\u001b[0m\n\u001b[0m",
      "\u001b[1;32m~\\.conda\\envs\\PythonData\\lib\\site-packages\\pandas\\core\\reshape\\tile.py\u001b[0m in \u001b[0;36mcut\u001b[1;34m(x, bins, right, labels, retbins, precision, include_lowest, duplicates)\u001b[0m\n\u001b[0;32m    263\u001b[0m         \u001b[0minclude_lowest\u001b[0m\u001b[1;33m=\u001b[0m\u001b[0minclude_lowest\u001b[0m\u001b[1;33m,\u001b[0m\u001b[1;33m\u001b[0m\u001b[1;33m\u001b[0m\u001b[0m\n\u001b[0;32m    264\u001b[0m         \u001b[0mdtype\u001b[0m\u001b[1;33m=\u001b[0m\u001b[0mdtype\u001b[0m\u001b[1;33m,\u001b[0m\u001b[1;33m\u001b[0m\u001b[1;33m\u001b[0m\u001b[0m\n\u001b[1;32m--> 265\u001b[1;33m         \u001b[0mduplicates\u001b[0m\u001b[1;33m=\u001b[0m\u001b[0mduplicates\u001b[0m\u001b[1;33m,\u001b[0m\u001b[1;33m\u001b[0m\u001b[1;33m\u001b[0m\u001b[0m\n\u001b[0m\u001b[0;32m    266\u001b[0m     )\n\u001b[0;32m    267\u001b[0m \u001b[1;33m\u001b[0m\u001b[0m\n",
      "\u001b[1;32m~\\.conda\\envs\\PythonData\\lib\\site-packages\\pandas\\core\\reshape\\tile.py\u001b[0m in \u001b[0;36m_bins_to_cuts\u001b[1;34m(x, bins, right, labels, precision, include_lowest, dtype, duplicates)\u001b[0m\n\u001b[0;32m    386\u001b[0m \u001b[1;33m\u001b[0m\u001b[0m\n\u001b[0;32m    387\u001b[0m     \u001b[0mside\u001b[0m \u001b[1;33m=\u001b[0m \u001b[1;34m\"left\"\u001b[0m \u001b[1;32mif\u001b[0m \u001b[0mright\u001b[0m \u001b[1;32melse\u001b[0m \u001b[1;34m\"right\"\u001b[0m\u001b[1;33m\u001b[0m\u001b[1;33m\u001b[0m\u001b[0m\n\u001b[1;32m--> 388\u001b[1;33m     \u001b[0mids\u001b[0m \u001b[1;33m=\u001b[0m \u001b[0mensure_int64\u001b[0m\u001b[1;33m(\u001b[0m\u001b[0mbins\u001b[0m\u001b[1;33m.\u001b[0m\u001b[0msearchsorted\u001b[0m\u001b[1;33m(\u001b[0m\u001b[0mx\u001b[0m\u001b[1;33m,\u001b[0m \u001b[0mside\u001b[0m\u001b[1;33m=\u001b[0m\u001b[0mside\u001b[0m\u001b[1;33m)\u001b[0m\u001b[1;33m)\u001b[0m\u001b[1;33m\u001b[0m\u001b[1;33m\u001b[0m\u001b[0m\n\u001b[0m\u001b[0;32m    389\u001b[0m \u001b[1;33m\u001b[0m\u001b[0m\n\u001b[0;32m    390\u001b[0m     \u001b[1;32mif\u001b[0m \u001b[0minclude_lowest\u001b[0m\u001b[1;33m:\u001b[0m\u001b[1;33m\u001b[0m\u001b[1;33m\u001b[0m\u001b[0m\n",
      "\u001b[1;31mValueError\u001b[0m: setting an array element with a sequence."
     ]
    }
   ],
   "source": [
    "\n",
    "#Group bins with names\n",
    "#age_groups = pd.cut(Age_df[\"Age\"], bins, labels = group_names)\n",
    "#New_Age_df = pd.cut(Age_df[\"Age\"], bins, labels=group_names).head()\n",
    "#Age_df[\"Age\"] = \n",
    "pd.cut(Age_df[\"Age\"], bins, labels=group_names, include_lowest=True).head()\n"
   ]
  },
  {
   "cell_type": "code",
   "execution_count": 24,
   "metadata": {},
   "outputs": [
    {
     "data": {
      "text/html": [
       "<div>\n",
       "<style scoped>\n",
       "    .dataframe tbody tr th:only-of-type {\n",
       "        vertical-align: middle;\n",
       "    }\n",
       "\n",
       "    .dataframe tbody tr th {\n",
       "        vertical-align: top;\n",
       "    }\n",
       "\n",
       "    .dataframe thead th {\n",
       "        text-align: right;\n",
       "    }\n",
       "</style>\n",
       "<table border=\"1\" class=\"dataframe\">\n",
       "  <thead>\n",
       "    <tr style=\"text-align: right;\">\n",
       "      <th></th>\n",
       "      <th>Purchase ID</th>\n",
       "      <th>Age</th>\n",
       "      <th>Item ID</th>\n",
       "      <th>Price</th>\n",
       "    </tr>\n",
       "    <tr>\n",
       "      <th>SN</th>\n",
       "      <th></th>\n",
       "      <th></th>\n",
       "      <th></th>\n",
       "      <th></th>\n",
       "    </tr>\n",
       "  </thead>\n",
       "  <tbody>\n",
       "    <tr>\n",
       "      <th>Dyally87</th>\n",
       "      <td>554.0</td>\n",
       "      <td>22.0</td>\n",
       "      <td>63.0</td>\n",
       "      <td>4.99</td>\n",
       "    </tr>\n",
       "    <tr>\n",
       "      <th>Lirtilsa71</th>\n",
       "      <td>246.0</td>\n",
       "      <td>24.0</td>\n",
       "      <td>139.0</td>\n",
       "      <td>4.94</td>\n",
       "    </tr>\n",
       "    <tr>\n",
       "      <th>Yarithsurgue62</th>\n",
       "      <td>231.0</td>\n",
       "      <td>26.0</td>\n",
       "      <td>139.0</td>\n",
       "      <td>4.94</td>\n",
       "    </tr>\n",
       "    <tr>\n",
       "      <th>Ririp86</th>\n",
       "      <td>110.0</td>\n",
       "      <td>25.0</td>\n",
       "      <td>139.0</td>\n",
       "      <td>4.94</td>\n",
       "    </tr>\n",
       "    <tr>\n",
       "      <th>Chanirrasta87</th>\n",
       "      <td>493.0</td>\n",
       "      <td>14.0</td>\n",
       "      <td>139.0</td>\n",
       "      <td>4.94</td>\n",
       "    </tr>\n",
       "  </tbody>\n",
       "</table>\n",
       "</div>"
      ],
      "text/plain": [
       "                Purchase ID   Age  Item ID  Price\n",
       "SN                                               \n",
       "Dyally87              554.0  22.0     63.0   4.99\n",
       "Lirtilsa71            246.0  24.0    139.0   4.94\n",
       "Yarithsurgue62        231.0  26.0    139.0   4.94\n",
       "Ririp86               110.0  25.0    139.0   4.94\n",
       "Chanirrasta87         493.0  14.0    139.0   4.94"
      ]
     },
     "execution_count": 24,
     "metadata": {},
     "output_type": "execute_result"
    }
   ],
   "source": [
    "#Break out top spenders \"SN\", \"Purchase Count\" , 'Average Purchase Price', \"Total Purchase Value\"\n",
    "\n",
    "#can this approach be taken with multiple values or does each need its own line https://stackoverflow.com/questions/35364601/group-by-and-find-top-n-value-counts-pandas\n",
    "#Top average purchase\n",
    "purchase_df.groupby([\"SN\"]).mean().sort_values(\"Price\", ascending=False).head()\n"
   ]
  },
  {
   "cell_type": "code",
   "execution_count": 25,
   "metadata": {},
   "outputs": [
    {
     "data": {
      "text/html": [
       "<div>\n",
       "<style scoped>\n",
       "    .dataframe tbody tr th:only-of-type {\n",
       "        vertical-align: middle;\n",
       "    }\n",
       "\n",
       "    .dataframe tbody tr th {\n",
       "        vertical-align: top;\n",
       "    }\n",
       "\n",
       "    .dataframe thead th {\n",
       "        text-align: right;\n",
       "    }\n",
       "</style>\n",
       "<table border=\"1\" class=\"dataframe\">\n",
       "  <thead>\n",
       "    <tr style=\"text-align: right;\">\n",
       "      <th></th>\n",
       "      <th>Purchase ID</th>\n",
       "      <th>Age</th>\n",
       "      <th>Item ID</th>\n",
       "      <th>Price</th>\n",
       "    </tr>\n",
       "    <tr>\n",
       "      <th>SN</th>\n",
       "      <th></th>\n",
       "      <th></th>\n",
       "      <th></th>\n",
       "      <th></th>\n",
       "    </tr>\n",
       "  </thead>\n",
       "  <tbody>\n",
       "    <tr>\n",
       "      <th>Lisosia93</th>\n",
       "      <td>1630</td>\n",
       "      <td>125</td>\n",
       "      <td>442</td>\n",
       "      <td>18.96</td>\n",
       "    </tr>\n",
       "    <tr>\n",
       "      <th>Idastidru52</th>\n",
       "      <td>1999</td>\n",
       "      <td>96</td>\n",
       "      <td>527</td>\n",
       "      <td>15.45</td>\n",
       "    </tr>\n",
       "    <tr>\n",
       "      <th>Chamjask73</th>\n",
       "      <td>1306</td>\n",
       "      <td>66</td>\n",
       "      <td>339</td>\n",
       "      <td>13.83</td>\n",
       "    </tr>\n",
       "    <tr>\n",
       "      <th>Iral74</th>\n",
       "      <td>2285</td>\n",
       "      <td>84</td>\n",
       "      <td>518</td>\n",
       "      <td>13.62</td>\n",
       "    </tr>\n",
       "    <tr>\n",
       "      <th>Iskadarya95</th>\n",
       "      <td>713</td>\n",
       "      <td>60</td>\n",
       "      <td>321</td>\n",
       "      <td>13.10</td>\n",
       "    </tr>\n",
       "  </tbody>\n",
       "</table>\n",
       "</div>"
      ],
      "text/plain": [
       "             Purchase ID  Age  Item ID  Price\n",
       "SN                                           \n",
       "Lisosia93           1630  125      442  18.96\n",
       "Idastidru52         1999   96      527  15.45\n",
       "Chamjask73          1306   66      339  13.83\n",
       "Iral74              2285   84      518  13.62\n",
       "Iskadarya95          713   60      321  13.10"
      ]
     },
     "execution_count": 25,
     "metadata": {},
     "output_type": "execute_result"
    }
   ],
   "source": [
    "#Top purchasers by SN\n",
    "purchase_df.groupby([\"SN\"]).sum().sort_values(\"Price\", ascending=False).head()"
   ]
  },
  {
   "cell_type": "code",
   "execution_count": 26,
   "metadata": {},
   "outputs": [
    {
     "ename": "TypeError",
     "evalue": "'DataFrame' object is not callable",
     "output_type": "error",
     "traceback": [
      "\u001b[1;31m---------------------------------------------------------------------------\u001b[0m",
      "\u001b[1;31mTypeError\u001b[0m                                 Traceback (most recent call last)",
      "\u001b[1;32m<ipython-input-26-376a07f26d84>\u001b[0m in \u001b[0;36m<module>\u001b[1;34m\u001b[0m\n\u001b[0;32m      1\u001b[0m \u001b[1;31m#Group By top 5 by Purchase Count Do I need to join the lists base don a key for total purchase count?\u001b[0m\u001b[1;33m\u001b[0m\u001b[1;33m\u001b[0m\u001b[1;33m\u001b[0m\u001b[0m\n\u001b[1;32m----> 2\u001b[1;33m \u001b[0mpurchase_df\u001b[0m\u001b[1;33m.\u001b[0m\u001b[0mgroupby\u001b[0m\u001b[1;33m(\u001b[0m\u001b[1;33m[\u001b[0m\u001b[1;34m\"SN\"\u001b[0m\u001b[1;33m]\u001b[0m\u001b[1;33m)\u001b[0m\u001b[1;33m.\u001b[0m\u001b[0msum\u001b[0m\u001b[1;33m(\u001b[0m\u001b[1;33m)\u001b[0m\u001b[1;33m(\u001b[0m\u001b[1;34m\"Item ID\"\u001b[0m\u001b[1;33m)\u001b[0m\u001b[1;33m\u001b[0m\u001b[1;33m\u001b[0m\u001b[0m\n\u001b[0m",
      "\u001b[1;31mTypeError\u001b[0m: 'DataFrame' object is not callable"
     ]
    }
   ],
   "source": [
    "#Group By top 5 by Purchase Count Do I need to join the lists base don a key for total purchase count? \n",
    "purchase_df.groupby([\"SN\"]).sum()(\"Item ID\")"
   ]
  },
  {
   "cell_type": "code",
   "execution_count": 27,
   "metadata": {},
   "outputs": [
    {
     "data": {
      "text/html": [
       "<div>\n",
       "<style scoped>\n",
       "    .dataframe tbody tr th:only-of-type {\n",
       "        vertical-align: middle;\n",
       "    }\n",
       "\n",
       "    .dataframe tbody tr th {\n",
       "        vertical-align: top;\n",
       "    }\n",
       "\n",
       "    .dataframe thead th {\n",
       "        text-align: right;\n",
       "    }\n",
       "</style>\n",
       "<table border=\"1\" class=\"dataframe\">\n",
       "  <thead>\n",
       "    <tr style=\"text-align: right;\">\n",
       "      <th></th>\n",
       "      <th>Purchase ID</th>\n",
       "      <th>Age</th>\n",
       "      <th>Item ID</th>\n",
       "      <th>Price</th>\n",
       "    </tr>\n",
       "    <tr>\n",
       "      <th>SN</th>\n",
       "      <th></th>\n",
       "      <th></th>\n",
       "      <th></th>\n",
       "      <th></th>\n",
       "    </tr>\n",
       "  </thead>\n",
       "  <tbody>\n",
       "    <tr>\n",
       "      <th>Dyally87</th>\n",
       "      <td>554.0</td>\n",
       "      <td>22.0</td>\n",
       "      <td>63.0</td>\n",
       "      <td>4.99</td>\n",
       "    </tr>\n",
       "    <tr>\n",
       "      <th>Lirtilsa71</th>\n",
       "      <td>246.0</td>\n",
       "      <td>24.0</td>\n",
       "      <td>139.0</td>\n",
       "      <td>4.94</td>\n",
       "    </tr>\n",
       "    <tr>\n",
       "      <th>Yarithsurgue62</th>\n",
       "      <td>231.0</td>\n",
       "      <td>26.0</td>\n",
       "      <td>139.0</td>\n",
       "      <td>4.94</td>\n",
       "    </tr>\n",
       "    <tr>\n",
       "      <th>Ririp86</th>\n",
       "      <td>110.0</td>\n",
       "      <td>25.0</td>\n",
       "      <td>139.0</td>\n",
       "      <td>4.94</td>\n",
       "    </tr>\n",
       "    <tr>\n",
       "      <th>Chanirrasta87</th>\n",
       "      <td>493.0</td>\n",
       "      <td>14.0</td>\n",
       "      <td>139.0</td>\n",
       "      <td>4.94</td>\n",
       "    </tr>\n",
       "  </tbody>\n",
       "</table>\n",
       "</div>"
      ],
      "text/plain": [
       "                Purchase ID   Age  Item ID  Price\n",
       "SN                                               \n",
       "Dyally87              554.0  22.0     63.0   4.99\n",
       "Lirtilsa71            246.0  24.0    139.0   4.94\n",
       "Yarithsurgue62        231.0  26.0    139.0   4.94\n",
       "Ririp86               110.0  25.0    139.0   4.94\n",
       "Chanirrasta87         493.0  14.0    139.0   4.94"
      ]
     },
     "execution_count": 27,
     "metadata": {},
     "output_type": "execute_result"
    }
   ],
   "source": [
    "#average pur price top 5 spenders\n",
    "purchase_df.groupby([\"SN\"]).mean().sort_values(\"Price\", ascending=False).head()\n"
   ]
  },
  {
   "cell_type": "code",
   "execution_count": 28,
   "metadata": {},
   "outputs": [],
   "source": [
    "#top 5 total purchase value - need to tie the two together again\n",
    "\n"
   ]
  },
  {
   "cell_type": "code",
   "execution_count": 38,
   "metadata": {},
   "outputs": [
    {
     "data": {
      "text/html": [
       "<div>\n",
       "<style scoped>\n",
       "    .dataframe tbody tr th:only-of-type {\n",
       "        vertical-align: middle;\n",
       "    }\n",
       "\n",
       "    .dataframe tbody tr th {\n",
       "        vertical-align: top;\n",
       "    }\n",
       "\n",
       "    .dataframe thead th {\n",
       "        text-align: right;\n",
       "    }\n",
       "</style>\n",
       "<table border=\"1\" class=\"dataframe\">\n",
       "  <thead>\n",
       "    <tr style=\"text-align: right;\">\n",
       "      <th></th>\n",
       "      <th>Purchase ID</th>\n",
       "      <th>Age</th>\n",
       "      <th>Price</th>\n",
       "    </tr>\n",
       "    <tr>\n",
       "      <th>Item ID</th>\n",
       "      <th></th>\n",
       "      <th></th>\n",
       "      <th></th>\n",
       "    </tr>\n",
       "  </thead>\n",
       "  <tbody>\n",
       "    <tr>\n",
       "      <th>92</th>\n",
       "      <td>6371</td>\n",
       "      <td>266</td>\n",
       "      <td>59.99</td>\n",
       "    </tr>\n",
       "    <tr>\n",
       "      <th>178</th>\n",
       "      <td>4960</td>\n",
       "      <td>287</td>\n",
       "      <td>50.76</td>\n",
       "    </tr>\n",
       "    <tr>\n",
       "      <th>82</th>\n",
       "      <td>2761</td>\n",
       "      <td>215</td>\n",
       "      <td>44.10</td>\n",
       "    </tr>\n",
       "    <tr>\n",
       "      <th>145</th>\n",
       "      <td>4345</td>\n",
       "      <td>187</td>\n",
       "      <td>41.22</td>\n",
       "    </tr>\n",
       "    <tr>\n",
       "      <th>103</th>\n",
       "      <td>3947</td>\n",
       "      <td>178</td>\n",
       "      <td>34.80</td>\n",
       "    </tr>\n",
       "  </tbody>\n",
       "</table>\n",
       "</div>"
      ],
      "text/plain": [
       "         Purchase ID  Age  Price\n",
       "Item ID                         \n",
       "92              6371  266  59.99\n",
       "178             4960  287  50.76\n",
       "82              2761  215  44.10\n",
       "145             4345  187  41.22\n",
       "103             3947  178  34.80"
      ]
     },
     "execution_count": 38,
     "metadata": {},
     "output_type": "execute_result"
    }
   ],
   "source": [
    "#Most Popular Items Need to break out by purchase count to sum Item ID, \"Item Name\", \"Purchase Count\", \"Item Price\",\"Total Purchase Value\"\n",
    "purchase_df.groupby([\"Item ID\"]).sum().sort_values(\"Price\", ascending=False).head()\n"
   ]
  },
  {
   "cell_type": "code",
   "execution_count": 30,
   "metadata": {},
   "outputs": [
    {
     "ename": "SyntaxError",
     "evalue": "invalid syntax (<ipython-input-30-ad263a95570d>, line 1)",
     "output_type": "error",
     "traceback": [
      "\u001b[1;36m  File \u001b[1;32m\"<ipython-input-30-ad263a95570d>\"\u001b[1;36m, line \u001b[1;32m1\u001b[0m\n\u001b[1;33m    Creating a new column\u001b[0m\n\u001b[1;37m             ^\u001b[0m\n\u001b[1;31mSyntaxError\u001b[0m\u001b[1;31m:\u001b[0m invalid syntax\n"
     ]
    }
   ],
   "source": [
    "\n",
    "# Place the data series into a new column inside of the DataFrame\n",
    "#ted_df[\"View Group\"] = pd.cut(ted_df[\"views\"], bins, labels=group_labels)\n",
    "#ted_df.head()"
   ]
  },
  {
   "cell_type": "code",
   "execution_count": null,
   "metadata": {},
   "outputs": [],
   "source": []
  },
  {
   "cell_type": "code",
   "execution_count": null,
   "metadata": {},
   "outputs": [],
   "source": []
  }
 ],
 "metadata": {
  "kernelspec": {
   "display_name": "Python 3",
   "language": "python",
   "name": "python3"
  },
  "language_info": {
   "codemirror_mode": {
    "name": "ipython",
    "version": 3
   },
   "file_extension": ".py",
   "mimetype": "text/x-python",
   "name": "python",
   "nbconvert_exporter": "python",
   "pygments_lexer": "ipython3",
   "version": "3.6.10"
  }
 },
 "nbformat": 4,
 "nbformat_minor": 4
}
